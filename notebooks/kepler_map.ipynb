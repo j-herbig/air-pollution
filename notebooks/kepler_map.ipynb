{
 "cells": [
  {
   "cell_type": "code",
   "execution_count": null,
   "metadata": {},
   "outputs": [],
   "source": [
    "import pandas as pd  # dataset handling\n",
    "import geopandas as gpd  # geodataset handling\n",
    "import numpy as np\n",
    "\n",
    "# Kepler.gl is a tool created by the Uber's Visualization Team for visual exploration of large scale geospatial data\n",
    "from keplergl import KeplerGl  # geospatial visualization \n",
    "\n",
    "import warnings\n",
    "warnings.filterwarnings(\"ignore\")"
   ]
  },
  {
   "cell_type": "markdown",
   "metadata": {},
   "source": [
    "# Data"
   ]
  },
  {
   "cell_type": "code",
   "execution_count": null,
   "metadata": {},
   "outputs": [],
   "source": [
    "\n",
    "# Import as a pandas DataFrame\n",
    "df_sensors = pd.read_csv(\n",
    "    '../data/cleaned_sensors_dwd_train.csv',\n",
    "    index_col=0\n",
    ").dropna(subset=['PM10', 'PM2p5'])\n",
    "\n",
    "# make dummies\n",
    "timestamps = pd.Series(df_sensors['timestamp'].unique(), name='timestamp')\n",
    "cities = pd.Series(df_sensors['city'].unique(), name='city')\n",
    "\n",
    "dummies = pd.DataFrame(data={\n",
    "    'location_id': -1,\n",
    "    'lat': [0, 90],\n",
    "    'lon': [0, 90],\n",
    "    'PM10': [0, df_sensors['PM10'].max()],\n",
    "    'PM2p5': [0, df_sensors['PM2p5'].max()],\n",
    "})\n",
    "\n",
    "dummies = dummies.merge(cities, how='cross').merge(timestamps, how='cross')\n",
    "\n",
    "df_sensors = pd.concat([df_sensors, dummies])\n",
    "\n",
    "df_sensors = df_sensors.query('city==\"Frankfurt\"')\n",
    "\n",
    "# Show the DataFrame\n",
    "df_sensors[df_sensors['location_id']==-1].head()"
   ]
  },
  {
   "cell_type": "code",
   "execution_count": null,
   "metadata": {},
   "outputs": [],
   "source": [
    "\n",
    "# # Import as a pandas DataFrame\n",
    "# df_sensors = pd.read_csv(\n",
    "#     '../data/cleaned_sensors_dwd_train.csv',\n",
    "#     index_col=0\n",
    "# ).dropna(subset=['PM10', 'PM2p5'])\n",
    "\n",
    "pm2p5_bins = np.arange(0, 50, 5)\n",
    "pm2p5_labels = pm2p5_bins\n",
    "pm2p5_bins = np.append(pm2p5_bins, 1000)\n",
    "pm2p5_bins[0] = -1\n",
    "\n",
    "pm10_bins = np.arange(0, 50, 5)\n",
    "pm10_labels = pm10_bins\n",
    "pm10_bins = np.append(pm10_bins, 2000)\n",
    "pm10_bins[0] = -1\n",
    "\n",
    "print(pm2p5_bins)\n",
    "\n",
    "df_sensors['PM2p5_bins'] = pd.cut(df_sensors['PM2p5'], bins=pm2p5_bins, labels=pm2p5_labels).astype(int)\n",
    "df_sensors['PM10_bins'] = pd.cut(df_sensors['PM10'], bins=pm10_bins, labels=pm10_labels).astype(int)\n",
    "\n",
    "df_sensors = df_sensors.query('city==\"Frankfurt\"')\n",
    "\n",
    "# # Show the DataFrame\n",
    "df_sensors.head()"
   ]
  },
  {
   "cell_type": "code",
   "execution_count": null,
   "metadata": {},
   "outputs": [],
   "source": [
    "# Make the geo DataFrame\n",
    "gdf_sensors = gpd.GeoDataFrame(\n",
    "    df_sensors, \n",
    "    geometry=gpd.points_from_xy(\n",
    "        x=df_sensors['lon'],\n",
    "        y=df_sensors['lat']\n",
    "    )\n",
    ")\n",
    "\n",
    "\n",
    "# Show the DataFrame\n",
    "gdf_sensors.head()"
   ]
  },
  {
   "cell_type": "markdown",
   "metadata": {},
   "source": [
    "# kepler.gl"
   ]
  },
  {
   "cell_type": "code",
   "execution_count": null,
   "metadata": {},
   "outputs": [],
   "source": [
    "gdf_sensors"
   ]
  },
  {
   "cell_type": "code",
   "execution_count": null,
   "metadata": {},
   "outputs": [],
   "source": [
    "gdf_sensors.info()"
   ]
  },
  {
   "cell_type": "code",
   "execution_count": null,
   "metadata": {},
   "outputs": [],
   "source": [
    "# Creating a Datetime column (Kepler is funny about datetimes)\n",
    "gdf_sensors['timestamp'] = pd.to_datetime(gdf_sensors['timestamp'])\n",
    "gdf_sensors['timestamp'] = gdf_sensors['timestamp'].dt.strftime('%Y-%m-%d %H:%M:%S')\n",
    "\n",
    "# Selecting only columns we need\n",
    "gdf_sensors = gdf_sensors[[\n",
    "    'PM10', 'PM2p5', 'lon', 'lat', 'geometry', 'timestamp',  'PM2p5_bins'\n",
    "]]\n",
    "\n",
    "gdf_sensors"
   ]
  },
  {
   "cell_type": "code",
   "execution_count": null,
   "metadata": {},
   "outputs": [],
   "source": [
    "# drop columns with NaNs\n",
    "gdf_sensors.drop(gdf_sensors[gdf_sensors['PM2p5'].isnull()].index, axis=0, inplace=True)\n",
    "gdf_sensors.drop(gdf_sensors[gdf_sensors['PM10'].isnull()].index, axis=0, inplace=True)"
   ]
  },
  {
   "cell_type": "code",
   "execution_count": null,
   "metadata": {},
   "outputs": [],
   "source": [
    "gdf_sensors['PM10'] = gdf_sensors['PM10'].astype(int)\n",
    "gdf_sensors['PM2p5'] = gdf_sensors['PM2p5'].astype(int)"
   ]
  },
  {
   "cell_type": "code",
   "execution_count": null,
   "metadata": {},
   "outputs": [],
   "source": [
    "gdf_sensors.info()"
   ]
  },
  {
   "cell_type": "markdown",
   "metadata": {},
   "source": [
    "## Create map and save it"
   ]
  },
  {
   "cell_type": "code",
   "execution_count": null,
   "metadata": {},
   "outputs": [],
   "source": [
    "%run config.py\n",
    "map_config = config"
   ]
  },
  {
   "cell_type": "code",
   "execution_count": null,
   "metadata": {},
   "outputs": [],
   "source": [
    "kepler_map = KeplerGl(\n",
    "    height=700,\n",
    "    data={\n",
    "        'Sensors': gdf_sensors,\n",
    "    }, config=map_config\n",
    ")\n",
    "\n",
    "#kepler_map"
   ]
  },
  {
   "cell_type": "code",
   "execution_count": null,
   "metadata": {},
   "outputs": [],
   "source": [
    "kepler_map"
   ]
  },
  {
   "cell_type": "code",
   "execution_count": null,
   "metadata": {},
   "outputs": [],
   "source": [
    "# # Save kepler_map config to a file\n",
    "# with open('config.py', 'w') as f:\n",
    "#    f.write('config = {}'.format(kepler_map.config))\n"
   ]
  },
  {
   "cell_type": "code",
   "execution_count": null,
   "metadata": {},
   "outputs": [],
   "source": [
    "\n",
    "# kepler_map.save_to_html(data={\n",
    "#         'Sensors': gdf_sensors,\n",
    "#     } , config=kepler_map.config,file_name='Sensors.html')"
   ]
  },
  {
   "cell_type": "code",
   "execution_count": null,
   "metadata": {},
   "outputs": [],
   "source": []
  }
 ],
 "metadata": {
  "interpreter": {
   "hash": "e8ffc3d8c3f8870d25e2eb9574053a6d07d165cccb0d47fc8953ccd1939ed0f7"
  },
  "kernelspec": {
   "display_name": "Python 3.9.4 ('.venv': venv)",
   "language": "python",
   "name": "python3"
  },
  "language_info": {
   "codemirror_mode": {
    "name": "ipython",
    "version": 3
   },
   "file_extension": ".py",
   "mimetype": "text/x-python",
   "name": "python",
   "nbconvert_exporter": "python",
   "pygments_lexer": "ipython3",
   "version": "3.9.4"
  },
  "orig_nbformat": 4
 },
 "nbformat": 4,
 "nbformat_minor": 2
}
