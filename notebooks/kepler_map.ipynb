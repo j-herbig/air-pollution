{
 "cells": [
  {
   "cell_type": "code",
   "execution_count": null,
   "metadata": {},
   "outputs": [],
   "source": [
    "import pandas as pd  # dataset handling\n",
    "import geopandas as gpd  # geodataset handling\n",
    "\n",
    "# Kepler.gl is a tool created by the Uber's Visualization Team for visual exploration of large scale geospatial data\n",
    "from keplergl import KeplerGl  # geospatial visualization \n",
    "\n",
    "import warnings\n",
    "warnings.filterwarnings(\"ignore\")"
   ]
  },
  {
   "cell_type": "markdown",
   "metadata": {},
   "source": [
    "# Data"
   ]
  },
  {
   "cell_type": "code",
   "execution_count": null,
   "metadata": {},
   "outputs": [],
   "source": [
    "\n",
    "# Import as a pandas DataFrame\n",
    "df_sensors = pd.read_csv(\n",
    "    '../data/cleaned_sensors_dwd_train.csv',\n",
    "    index_col=0\n",
    ")\n",
    "\n",
    "df_sensors = df_sensors.query('city==\"Bremen\"')\n",
    "\n",
    "# Show the DataFrame\n",
    "df_sensors.head()"
   ]
  },
  {
   "cell_type": "code",
   "execution_count": null,
   "metadata": {},
   "outputs": [],
   "source": [
    "# Make the geo DataFrame\n",
    "gdf_sensors = gpd.GeoDataFrame(\n",
    "    df_sensors, \n",
    "    geometry=gpd.points_from_xy(\n",
    "        x=df_sensors['lon'],\n",
    "        y=df_sensors['lat']\n",
    "    )\n",
    ")\n",
    "\n",
    "\n",
    "# Show the DataFrame\n",
    "gdf_sensors.head()"
   ]
  },
  {
   "cell_type": "markdown",
   "metadata": {},
   "source": [
    "# kepler.gl"
   ]
  },
  {
   "cell_type": "code",
   "execution_count": null,
   "metadata": {},
   "outputs": [],
   "source": [
    "gdf_sensors"
   ]
  },
  {
   "cell_type": "code",
   "execution_count": null,
   "metadata": {},
   "outputs": [],
   "source": [
    "gdf_sensors.info()"
   ]
  },
  {
   "cell_type": "code",
   "execution_count": null,
   "metadata": {},
   "outputs": [],
   "source": [
    "# Creating a Datetime column (Kepler is funny about datetimes)\n",
    "gdf_sensors['timestamp'] = pd.to_datetime(gdf_sensors['timestamp'])\n",
    "gdf_sensors['timestamp'] = gdf_sensors['timestamp'].dt.strftime('%Y-%m-%d %H:%M:%S')\n",
    "\n",
    "# Selecting only columns we need\n",
    "gdf_sensors = gdf_sensors[[\n",
    "    'PM10', 'PM2p5', 'lon', 'lat', 'geometry', 'timestamp'\n",
    "]]\n",
    "\n",
    "gdf_sensors"
   ]
  },
  {
   "cell_type": "code",
   "execution_count": null,
   "metadata": {},
   "outputs": [],
   "source": [
    "# drop columns with NaNs\n",
    "gdf_sensors.drop(gdf_sensors[gdf_sensors['PM2p5'].isnull()].index, axis=0, inplace=True)\n",
    "gdf_sensors.drop(gdf_sensors[gdf_sensors['PM10'].isnull()].index, axis=0, inplace=True)"
   ]
  },
  {
   "cell_type": "code",
   "execution_count": null,
   "metadata": {},
   "outputs": [],
   "source": [
    "gdf_sensors['PM10'] = gdf_sensors['PM10'].astype(int)\n",
    "gdf_sensors['PM2p5'] = gdf_sensors['PM2p5'].astype(int)"
   ]
  },
  {
   "cell_type": "code",
   "execution_count": null,
   "metadata": {},
   "outputs": [],
   "source": [
    "gdf_sensors.info()"
   ]
  },
  {
   "cell_type": "markdown",
   "metadata": {},
   "source": [
    "## Create map and save it"
   ]
  },
  {
   "cell_type": "code",
   "execution_count": null,
   "metadata": {},
   "outputs": [],
   "source": [
    "%run config.py\n",
    "map_config = config"
   ]
  },
  {
   "cell_type": "code",
   "execution_count": null,
   "metadata": {},
   "outputs": [],
   "source": [
    "kepler_map = KeplerGl(\n",
    "    height=700,\n",
    "    data={\n",
    "        'Sensors': gdf_sensors,\n",
    "    }, config=map_config\n",
    ")\n",
    "\n",
    "#kepler_map"
   ]
  },
  {
   "cell_type": "code",
   "execution_count": null,
   "metadata": {},
   "outputs": [],
   "source": [
    "kepler_map"
   ]
  },
  {
   "cell_type": "code",
   "execution_count": null,
   "metadata": {},
   "outputs": [],
   "source": [
    "# Save kepler_map config to a file\n",
    "with open('config.py', 'w') as f:\n",
    "   f.write('config = {}'.format(kepler_map.config))\n"
   ]
  },
  {
   "cell_type": "code",
   "execution_count": null,
   "metadata": {},
   "outputs": [],
   "source": [
    "\n",
    "kepler_map.save_to_html(data={\n",
    "        'Sensors': gdf_sensors,\n",
    "    } , config=kepler_map.config,file_name='Sensors.html')"
   ]
  }
 ],
 "metadata": {
  "interpreter": {
   "hash": "e8ffc3d8c3f8870d25e2eb9574053a6d07d165cccb0d47fc8953ccd1939ed0f7"
  },
  "kernelspec": {
   "display_name": "Python 3.9.4 ('.venv': venv)",
   "language": "python",
   "name": "python3"
  },
  "language_info": {
   "codemirror_mode": {
    "name": "ipython",
    "version": 3
   },
   "file_extension": ".py",
   "mimetype": "text/x-python",
   "name": "python",
   "nbconvert_exporter": "python",
   "pygments_lexer": "ipython3",
   "version": "3.9.4"
  },
  "orig_nbformat": 4
 },
 "nbformat": 4,
 "nbformat_minor": 2
}
