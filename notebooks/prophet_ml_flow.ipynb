{
 "cells": [
  {
   "cell_type": "code",
<<<<<<< HEAD
   "execution_count": null,
=======
   "execution_count": 1,
>>>>>>> main
   "metadata": {},
   "outputs": [],
   "source": [
    "import sys\n",
    "# adding to the path variables the one folder higher (locally, not changing system variables)\n",
    "sys.path.append(\"..\")\n",
    "import pandas as pd\n",
    "import numpy as np\n",
    "import warnings\n",
    "import mlflow\n",
    "from mlflow import prophet\n",
    "\n",
    "from modeling.config import EXPERIMENT_NAME\n",
    "TRACKING_URI = open(\"../.mlflow_uri\").read().strip()\n",
    "\n",
    "warnings.filterwarnings('ignore')\n",
    "\n",
    "import datetime\n",
    "from prophet.serialize import model_from_json\n",
    "import json"
   ]
  },
  {
   "cell_type": "markdown",
   "metadata": {},
   "source": [
    "## Import train, test data and model"
   ]
  },
  {
   "cell_type": "code",
<<<<<<< HEAD
   "execution_count": null,
=======
   "execution_count": 34,
>>>>>>> main
   "metadata": {},
   "outputs": [],
   "source": [
    "# import train data and format timestamp column\n",
    "df_train = pd.read_csv('../data/cleaned_sensors_dwd_train.csv', index_col=0)\n",
    "df_train['timestamp'] = pd.to_datetime(df_train['timestamp'])"
   ]
  },
  {
   "cell_type": "code",
<<<<<<< HEAD
   "execution_count": null,
=======
   "execution_count": 35,
>>>>>>> main
   "metadata": {},
   "outputs": [],
   "source": [
    "# import test data and format timestamp column\n",
    "df_test = pd.read_csv('../data/cleaned_sensors_dwd_test.csv', index_col=0)\n",
    "df_test['timestamp'] = pd.to_datetime(df_test['timestamp'])"
   ]
  },
  {
   "cell_type": "code",
<<<<<<< HEAD
   "execution_count": null,
=======
   "execution_count": 45,
>>>>>>> main
   "metadata": {},
   "outputs": [],
   "source": [
    "# optional: import models from disk\n",
    "location_list= [2, 10]\n",
    "old_models = {}\n",
    "date = str(datetime.datetime(2022, 3, 21).date())\n",
    "for location_id in location_list:\n",
    "    with open(f'../models/model_{location_id}_{date}.json', 'r') as f:\n",
    "        old_models[location_id] = model_from_json(json.load(f))"
   ]
  },
  {
   "cell_type": "markdown",
   "metadata": {},
   "source": [
<<<<<<< HEAD
    "## Tracking with MLFlow"
=======
    "## Trainining the model and tracking with MLFlow"
>>>>>>> main
   ]
  },
  {
   "cell_type": "code",
<<<<<<< HEAD
   "execution_count": null,
=======
   "execution_count": 2,
>>>>>>> main
   "metadata": {
    "slideshow": {
     "slide_type": "slide"
    }
   },
   "outputs": [],
   "source": [
    "# setting the MLFlow connection and experiment\n",
    "mlflow.set_tracking_uri(TRACKING_URI)\n",
    "mlflow.set_experiment(EXPERIMENT_NAME)\n",
<<<<<<< HEAD
    "with mlflow.start_run(run_name='first_try'): \n",
    "    mlflow.log_params({'yearly_seasonaliy': 'True', 'regressors': \"True\"})\n",
    "    mlflow.set_tags({'location_id': 2, 'city': 'Frankfurt'})\n",
    "    mlflow.log_metrics({'RMSE_train': 10.0, 'RMSE_test': 9.0})\n",
    "mlflow.end_run()\n"
   ]
=======
    "mlflow.start_run()\n",
    "\n",
    "# model = old_models[2]\n",
    "\n",
    "\n",
    "run = mlflow.active_run()\n",
    " \n"
   ]
  },
  {
   "cell_type": "code",
   "execution_count": 3,
   "metadata": {},
   "outputs": [],
   "source": [
    "mlflow.end_run()\n"
   ]
  },
  {
   "cell_type": "code",
   "execution_count": null,
   "metadata": {
    "slideshow": {
     "slide_type": "subslide"
    }
   },
   "outputs": [],
   "source": [
    "print(\"Active run_id: {}\".format(run.info.run_id))"
   ]
  },
  {
   "cell_type": "code",
   "execution_count": null,
   "metadata": {},
   "outputs": [],
   "source": [
    "prophet.log_model()"
   ]
  },
  {
   "cell_type": "code",
   "execution_count": null,
   "metadata": {},
   "outputs": [],
   "source": [
    "prophet.save_model()"
   ]
  },
  {
   "cell_type": "code",
   "execution_count": 47,
   "metadata": {},
   "outputs": [
    {
     "name": "stdout",
     "output_type": "stream",
     "text": [
      "[2022-03-23 14:43:45 +0100] [41759] [INFO] Starting gunicorn 20.1.0\n",
      "[2022-03-23 14:43:45 +0100] [41759] [INFO] Listening at: http://127.0.0.1:5000 (41759)\n",
      "[2022-03-23 14:43:45 +0100] [41759] [INFO] Using worker: sync\n",
      "[2022-03-23 14:43:45 +0100] [41760] [INFO] Booting worker with pid: 41760\n",
      "^C\n",
      "[2022-03-23 14:45:37 +0100] [41759] [INFO] Handling signal: int\n",
      "[2022-03-23 14:45:37 +0100] [41760] [INFO] Worker exiting (pid: 41760)\n"
     ]
    }
   ],
   "source": []
  },
  {
   "cell_type": "code",
   "execution_count": null,
   "metadata": {},
   "outputs": [],
   "source": []
>>>>>>> main
  }
 ],
 "metadata": {
  "interpreter": {
   "hash": "4a077374ed4dbb64161d40ed2104c7e33247b48512da5a01adf0d791950a02fa"
  },
  "kernelspec": {
   "display_name": "Python 3.9.4 ('.venv': venv)",
   "language": "python",
   "name": "python3"
  },
  "language_info": {
   "codemirror_mode": {
    "name": "ipython",
    "version": 3
   },
   "file_extension": ".py",
   "mimetype": "text/x-python",
   "name": "python",
   "nbconvert_exporter": "python",
   "pygments_lexer": "ipython3",
   "version": "3.9.4"
  },
  "orig_nbformat": 4
 },
 "nbformat": 4,
 "nbformat_minor": 2
}
