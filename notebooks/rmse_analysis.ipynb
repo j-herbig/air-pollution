{
 "cells": [
  {
   "cell_type": "code",
   "execution_count": null,
   "metadata": {},
   "outputs": [],
   "source": [
    "import numpy as np\n",
    "import pandas as pd\n",
    "import matplotlib.pyplot as plt\n",
    "import seaborn as sns\n",
    "import plotly.express as px\n",
    "\n",
    "import plotly.io as pio\n",
    "pio.renderers.default = \"notebook\"\n",
    "\n",
    "sns.set_theme()\n",
    "plt.rcParams.update({'figure.facecolor':'white'})\n",
    "\n",
    "import warnings\n",
    "warnings.filterwarnings(\"ignore\")"
   ]
  },
  {
   "cell_type": "markdown",
   "metadata": {},
   "source": [
    "# Import results and get a basic overview"
   ]
  },
  {
   "cell_type": "code",
   "execution_count": null,
   "metadata": {},
   "outputs": [],
   "source": [
    "results = pd.read_csv(\"../statistics/runs.csv\")\n",
    "results.head()"
   ]
  },
  {
   "cell_type": "code",
   "execution_count": null,
   "metadata": {},
   "outputs": [],
   "source": [
    "results['location_id'].nunique()\n"
   ]
  },
  {
   "cell_type": "code",
   "execution_count": null,
   "metadata": {},
   "outputs": [],
   "source": [
    "results.info()"
   ]
  },
  {
   "cell_type": "code",
   "execution_count": null,
   "metadata": {},
   "outputs": [],
   "source": [
    "for col in [col for col in results.columns if 'prior_scale' in col]:\n",
    "    results[col] = results[col].replace('None', np.nan).astype(float)\n",
    "results['changepoint_prior_scale'].fillna(.05, inplace=True)\n",
    "results['n_changepoints'].fillna(25, inplace=True)\n",
    "results.info()\n"
   ]
  },
  {
   "cell_type": "code",
   "execution_count": null,
   "metadata": {},
   "outputs": [],
   "source": [
    "results['location_id'].value_counts()"
   ]
  },
  {
   "cell_type": "code",
   "execution_count": null,
   "metadata": {},
   "outputs": [],
   "source": [
    "results.columns"
   ]
  },
  {
   "cell_type": "code",
   "execution_count": null,
   "metadata": {},
   "outputs": [],
   "source": [
    "parameters = [col for col in results.columns if 'prior_scale' in col]\n",
    "parameters = parameters + ['n_changepoints']\n",
    "parameters.sort()\n",
    "parameters"
   ]
  },
  {
   "cell_type": "code",
   "execution_count": null,
   "metadata": {},
   "outputs": [],
   "source": [
    "results['location_id'].value_counts()"
   ]
  },
  {
   "cell_type": "markdown",
   "metadata": {},
   "source": [
    "# Clean results"
   ]
  },
  {
   "cell_type": "code",
   "execution_count": null,
   "metadata": {},
   "outputs": [],
   "source": [
    "# Number of locations should be 64. Get all runs with 64 location ID's\n",
    "df_valid_runs = results.groupby(parameters, dropna=False).count()['Name'].reset_index().rename(columns={'Name': 'count'})\n",
    "df_valid_runs = df_valid_runs[df_valid_runs['count']==64].drop('count', axis=1)\n",
    "\n",
    "# get all location ID's from valid runs\n",
    "valid_locations = []\n",
    "rows_to_drop = []\n",
    "for i in df_valid_runs.index:\n",
    "    for j in results.index:\n",
    "        if df_valid_runs.loc[i, parameters].astype(float).equals(results.loc[j, parameters].astype(float)):\n",
    "            valid_locations.append(results['location_id'].loc[j])\n",
    "valid_locations = set(valid_locations)\n",
    "print(len(valid_locations))\n",
    "\n",
    "# get results without duplicates\n",
    "results_cleaned = results[~results.duplicated(subset=parameters+['location_id'])]\n",
    "print(results_cleaned.shape)\n",
    "# filter for valid location ID's\n",
    "results_cleaned = results_cleaned[results_cleaned['location_id'].isin(valid_locations)]\n",
    "print(results_cleaned.shape)"
   ]
  },
  {
   "cell_type": "code",
   "execution_count": null,
   "metadata": {},
   "outputs": [],
   "source": [
    "# clean from unfinished runs\n",
    "df_finished_runs = results_cleaned[parameters]\n",
    "# count number of experiments per parameter combination\n",
    "df_finished_runs['count'] = 1\n",
    "df_finished_runs = df_finished_runs.groupby(parameters, dropna=False).sum().reset_index()\n",
    "# if that count is equal to the maximum count, it is a finished run\n",
    "df_finished_runs = df_finished_runs[df_finished_runs['count'] == df_finished_runs['count'].max()]\n",
    "\n",
    "# compare parameter combinations of all experiments with those of finished runs\n",
    "# save the indices of experiments of finished runs in a list \n",
    "rows_to_keep = []\n",
    "for i in df_finished_runs.index:\n",
    "    for j in results_cleaned.index:\n",
    "        if df_finished_runs.loc[i, parameters].astype(float).equals(results_cleaned.loc[j, parameters].astype(float)):\n",
    "            rows_to_keep.append(j)\n",
    "\n",
    "# keep only experiments of finished runs\n",
    "results_cleaned = results_cleaned.loc[rows_to_keep, :]\n",
    "\n",
    "# verify by counting experiments per parameter combination\n",
    "results_cleaned.groupby(parameters, dropna=False).count().iloc[:, 0].reset_index()\n"
   ]
  },
  {
   "cell_type": "markdown",
   "metadata": {},
   "source": [
    "# Plot RMSE's"
   ]
  },
  {
   "cell_type": "code",
   "execution_count": null,
   "metadata": {},
   "outputs": [],
   "source": [
    "# plot RMSE's of all locations\n",
    "fig = px.scatter(\n",
    "    results_cleaned, \n",
    "    x='RMSE_test', \n",
    "    y='RMSE_train',\n",
    "    hover_data=parameters + ['location_id'],\n",
    "    color='location_id'\n",
    ")\n",
    "fig.show()"
   ]
  },
  {
   "cell_type": "code",
   "execution_count": null,
   "metadata": {},
   "outputs": [],
   "source": [
    "# calculate the average RMSE per parameter combination\n",
    "df_rmse = results_cleaned.groupby(parameters, dropna=False).mean()[['RMSE_test', 'RMSE_train']].reset_index().sort_values('RMSE_test')\n",
    "df_rmse"
   ]
  },
  {
   "cell_type": "code",
   "execution_count": null,
   "metadata": {},
   "outputs": [],
   "source": [
    "# plot mean RMSE's\n",
    "fig = px.scatter(\n",
    "    df_rmse, \n",
    "    x='RMSE_test', \n",
    "    # y='RMSE_train',\n",
    "    y='RMSE_train',\n",
    "    hover_data=parameters,\n",
    ")\n",
    "fig.show()"
   ]
  },
  {
   "cell_type": "markdown",
   "metadata": {},
   "source": [
    "based on RMSE of the test data, the best paramter combination is:\n",
    "- changepoint_prior_scale   0.60\n",
    "- humi_prior_scale          NaN (humi flag on False)\n",
    "- n_changepoints            25.0\n",
    "- precip_prior_scale        0.3\n",
    "- press_prior_scale         0.3\n",
    "- temp_prior_scale          0.3\n",
    "- winddir_prior_scale       0.3\n",
    "- windsp_prior_scale        0.3"
   ]
  },
  {
   "cell_type": "markdown",
   "metadata": {},
   "source": []
  }
 ],
 "metadata": {
  "interpreter": {
   "hash": "0eff187d94a6d345964e064b31a9e6fc453a64676d5a266be90b3132f78586ec"
  },
  "kernelspec": {
   "display_name": "Python 3.9.4 ('.venv': venv)",
   "language": "python",
   "name": "python3"
  },
  "language_info": {
   "codemirror_mode": {
    "name": "ipython",
    "version": 3
   },
   "file_extension": ".py",
   "mimetype": "text/x-python",
   "name": "python",
   "nbconvert_exporter": "python",
   "pygments_lexer": "ipython3",
   "version": "3.9.4"
  },
  "orig_nbformat": 4
 },
 "nbformat": 4,
 "nbformat_minor": 2
}
