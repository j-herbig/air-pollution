{
 "cells": [
  {
   "cell_type": "code",
   "execution_count": 1,
   "metadata": {},
   "outputs": [],
   "source": [
    "import plotly.express as px\n",
    "import pandas as pd\n",
    "import plotly.io as pio\n",
    "pio.renderers.default = \"notebook\"\n",
    "\n",
    "df = pd.read_csv('../data/cleaned_sensors_dwd_train.csv', index_col=0)"
   ]
  },
  {
   "cell_type": "code",
   "execution_count": 2,
   "metadata": {},
   "outputs": [],
   "source": [
    "#df_loc = df[['lat', 'lon', 'location_id']].groupby(['location_id']).first().reset_index()\n",
    "#df_loc = df_loc.query('location_id == 133 or location_id == 14 or location_id == 102')"
   ]
  },
  {
   "cell_type": "code",
   "execution_count": 3,
   "metadata": {},
   "outputs": [
    {
     "ename": "NameError",
     "evalue": "name 'df_loc' is not defined",
     "output_type": "error",
     "traceback": [
      "\u001b[0;31m---------------------------------------------------------------------------\u001b[0m",
      "\u001b[0;31mNameError\u001b[0m                                 Traceback (most recent call last)",
      "\u001b[1;32m/Users/kirstensunder/neuefische/air-pollution/notebooks/location_plots.ipynb Cell 3'\u001b[0m in \u001b[0;36m<cell line: 1>\u001b[0;34m()\u001b[0m\n\u001b[0;32m----> <a href='vscode-notebook-cell:/Users/kirstensunder/neuefische/air-pollution/notebooks/location_plots.ipynb#ch0000002?line=0'>1</a>\u001b[0m fig \u001b[39m=\u001b[39m px\u001b[39m.\u001b[39mscatter_mapbox(df_loc, lat\u001b[39m=\u001b[39m\u001b[39m\"\u001b[39m\u001b[39mlat\u001b[39m\u001b[39m\"\u001b[39m, lon\u001b[39m=\u001b[39m\u001b[39m\"\u001b[39m\u001b[39mlon\u001b[39m\u001b[39m\"\u001b[39m,                    \n\u001b[1;32m      <a href='vscode-notebook-cell:/Users/kirstensunder/neuefische/air-pollution/notebooks/location_plots.ipynb#ch0000002?line=1'>2</a>\u001b[0m                         hover_data\u001b[39m=\u001b[39m{\u001b[39m'\u001b[39m\u001b[39mlat\u001b[39m\u001b[39m'\u001b[39m:\u001b[39mFalse\u001b[39;00m, \u001b[39m'\u001b[39m\u001b[39mlon\u001b[39m\u001b[39m'\u001b[39m:\u001b[39mFalse\u001b[39;00m, \u001b[39m'\u001b[39m\u001b[39mlocation_id\u001b[39m\u001b[39m'\u001b[39m:\u001b[39mTrue\u001b[39;00m},\n\u001b[1;32m      <a href='vscode-notebook-cell:/Users/kirstensunder/neuefische/air-pollution/notebooks/location_plots.ipynb#ch0000002?line=2'>3</a>\u001b[0m                         zoom\u001b[39m=\u001b[39m\u001b[39m10.5\u001b[39m,\n\u001b[1;32m      <a href='vscode-notebook-cell:/Users/kirstensunder/neuefische/air-pollution/notebooks/location_plots.ipynb#ch0000002?line=3'>4</a>\u001b[0m                         height\u001b[39m=\u001b[39m\u001b[39m1000\u001b[39m,\n\u001b[1;32m      <a href='vscode-notebook-cell:/Users/kirstensunder/neuefische/air-pollution/notebooks/location_plots.ipynb#ch0000002?line=4'>5</a>\u001b[0m                         width\u001b[39m=\u001b[39m\u001b[39m1500\u001b[39m,\n\u001b[1;32m      <a href='vscode-notebook-cell:/Users/kirstensunder/neuefische/air-pollution/notebooks/location_plots.ipynb#ch0000002?line=5'>6</a>\u001b[0m                         center\u001b[39m=\u001b[39m{\u001b[39m'\u001b[39m\u001b[39mlat\u001b[39m\u001b[39m'\u001b[39m:\u001b[39m50.1\u001b[39m, \u001b[39m'\u001b[39m\u001b[39mlon\u001b[39m\u001b[39m'\u001b[39m:\u001b[39m8.7\u001b[39m},\n\u001b[1;32m      <a href='vscode-notebook-cell:/Users/kirstensunder/neuefische/air-pollution/notebooks/location_plots.ipynb#ch0000002?line=6'>7</a>\u001b[0m                         title\u001b[39m=\u001b[39m\u001b[39m'\u001b[39m\u001b[39mLocations\u001b[39m\u001b[39m'\u001b[39m,\n\u001b[1;32m      <a href='vscode-notebook-cell:/Users/kirstensunder/neuefische/air-pollution/notebooks/location_plots.ipynb#ch0000002?line=7'>8</a>\u001b[0m                         \n\u001b[1;32m      <a href='vscode-notebook-cell:/Users/kirstensunder/neuefische/air-pollution/notebooks/location_plots.ipynb#ch0000002?line=8'>9</a>\u001b[0m                         )\n\u001b[1;32m     <a href='vscode-notebook-cell:/Users/kirstensunder/neuefische/air-pollution/notebooks/location_plots.ipynb#ch0000002?line=9'>10</a>\u001b[0m fig\u001b[39m.\u001b[39mupdate_traces(marker \u001b[39m=\u001b[39m{\u001b[39m'\u001b[39m\u001b[39msymbol\u001b[39m\u001b[39m'\u001b[39m:\u001b[39m'\u001b[39m\u001b[39mcircle\u001b[39m\u001b[39m'\u001b[39m, \u001b[39m'\u001b[39m\u001b[39msize\u001b[39m\u001b[39m'\u001b[39m:\u001b[39m12\u001b[39m, \u001b[39m'\u001b[39m\u001b[39mcolor\u001b[39m\u001b[39m'\u001b[39m:\u001b[39m'\u001b[39m\u001b[39mdarkgreen\u001b[39m\u001b[39m'\u001b[39m}, selector\u001b[39m=\u001b[39m\u001b[39mdict\u001b[39m(\u001b[39mtype\u001b[39m\u001b[39m=\u001b[39m\u001b[39m'\u001b[39m\u001b[39mscattermapbox\u001b[39m\u001b[39m'\u001b[39m))\n\u001b[1;32m     <a href='vscode-notebook-cell:/Users/kirstensunder/neuefische/air-pollution/notebooks/location_plots.ipynb#ch0000002?line=11'>12</a>\u001b[0m fig\u001b[39m.\u001b[39mupdate_layout(mapbox_style\u001b[39m=\u001b[39m\u001b[39m\"\u001b[39m\u001b[39mcarto-positron\u001b[39m\u001b[39m\"\u001b[39m,\n\u001b[1;32m     <a href='vscode-notebook-cell:/Users/kirstensunder/neuefische/air-pollution/notebooks/location_plots.ipynb#ch0000002?line=12'>13</a>\u001b[0m                     margin\u001b[39m=\u001b[39m{\u001b[39m'\u001b[39m\u001b[39mr\u001b[39m\u001b[39m'\u001b[39m:\u001b[39m0\u001b[39m, \u001b[39m'\u001b[39m\u001b[39mt\u001b[39m\u001b[39m'\u001b[39m:\u001b[39m25\u001b[39m, \u001b[39m'\u001b[39m\u001b[39ml\u001b[39m\u001b[39m'\u001b[39m:\u001b[39m0\u001b[39m, \u001b[39m'\u001b[39m\u001b[39mb\u001b[39m\u001b[39m'\u001b[39m:\u001b[39m0\u001b[39m}, \n\u001b[1;32m     <a href='vscode-notebook-cell:/Users/kirstensunder/neuefische/air-pollution/notebooks/location_plots.ipynb#ch0000002?line=13'>14</a>\u001b[0m                     )\n",
      "\u001b[0;31mNameError\u001b[0m: name 'df_loc' is not defined"
     ]
    }
   ],
   "source": [
    "fig = px.scatter_mapbox(df, lat=\"lat\", lon=\"lon\",                    \n",
    "                        hover_data={'lat':False, 'lon':False, 'location_id':True},\n",
    "                        zoom=10.5,\n",
    "                        height=1000,\n",
    "                        width=1500,\n",
    "                        center={'lat':50.1, 'lon':8.7},\n",
    "                        title='Locations',\n",
    "                        \n",
    "                        )\n",
    "fig.update_traces(marker ={'symbol':'circle', 'size':12, 'color':'darkgreen'}, selector=dict(type='scattermapbox'))\n",
    "\n",
    "fig.update_layout(mapbox_style=\"carto-positron\",\n",
    "                    margin={'r':0, 't':25, 'l':0, 'b':0}, \n",
    "                    )\n",
    "fig.show()"
   ]
  },
  {
   "cell_type": "code",
   "execution_count": null,
   "metadata": {},
   "outputs": [],
   "source": []
  }
 ],
 "metadata": {
  "interpreter": {
   "hash": "4a077374ed4dbb64161d40ed2104c7e33247b48512da5a01adf0d791950a02fa"
  },
  "kernelspec": {
   "display_name": "Python 3.9.4 ('.venv': venv)",
   "language": "python",
   "name": "python3"
  },
  "language_info": {
   "codemirror_mode": {
    "name": "ipython",
    "version": 3
   },
   "file_extension": ".py",
   "mimetype": "text/x-python",
   "name": "python",
   "nbconvert_exporter": "python",
   "pygments_lexer": "ipython3",
   "version": "3.9.4"
  },
  "orig_nbformat": 4
 },
 "nbformat": 4,
 "nbformat_minor": 2
}
