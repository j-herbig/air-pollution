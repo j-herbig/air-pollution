{
 "cells": [
  {
   "cell_type": "markdown",
   "metadata": {},
   "source": [
    "# Time Series Analysis with Prophet model"
   ]
  },
  {
   "cell_type": "code",
   "execution_count": null,
   "metadata": {},
   "outputs": [],
   "source": [
    "import pandas as pd\n",
    "import numpy as np\n",
    "from prophet import Prophet\n",
    "\n",
    "import seaborn as sns\n",
    "import matplotlib.pyplot as plt\n",
    "\n",
    "from prophet.plot import plot_plotly, plot_components_plotly\n",
    "\n",
    "from sklearn.metrics import mean_squared_error\n",
    "\n",
    "from prophet.diagnostics import performance_metrics\n",
    "\n",
    "import plotly.io as pio\n",
    "pio.renderers.default = \"notebook\"\n",
    "\n",
    "\n",
    "sns.axes_style(\"darkgrid\")\n",
    "sns.set_theme()"
   ]
  },
  {
   "cell_type": "code",
   "execution_count": null,
   "metadata": {},
   "outputs": [],
   "source": [
    "# import train data and format timestamp column\n",
    "df = pd.read_csv('../data/cleaned_sensors_dwd_train.csv', index_col=0)\n",
    "df['timestamp'] = pd.to_datetime(df['timestamp'])"
   ]
  },
  {
   "cell_type": "code",
   "execution_count": null,
   "metadata": {},
   "outputs": [],
   "source": [
    "# import test data\n",
    "df_test_data = pd.read_csv('../data/cleaned_sensors_dwd_test.csv', index_col=0)\n",
    "df_test_data['timestamp'] = pd.to_datetime(df_test_data['timestamp'])"
   ]
  },
  {
   "cell_type": "code",
   "execution_count": null,
   "metadata": {},
   "outputs": [],
   "source": [
    "df"
   ]
  },
  {
   "cell_type": "code",
   "execution_count": null,
   "metadata": {},
   "outputs": [],
   "source": [
    "# reduce data to city Bremen\n",
    "df_prophet = df.query('city == \"Bremen\"')\n",
    "df_prophet = df_prophet[['timestamp','PM2p5','location_id']]\n",
    "\n",
    "# rename columns to expected format for prophet\n",
    "df_prophet.rename(columns={'timestamp': 'ds', 'PM2p5': 'y'}, inplace=True)\n",
    "\n",
    "# prophet can not handle nans in dataframe\n",
    "df_prophet.dropna(inplace=True)\n",
    "\n",
    "# create list of location ids for later loop\n",
    "location_list_bremen = df_prophet['location_id'].unique().tolist()\n",
    "\n",
    "# check number of locations\n",
    "df_prophet.location_id.nunique()"
   ]
  },
  {
   "cell_type": "markdown",
   "metadata": {},
   "source": [
    "## Prophet model for all locations in Bremen (without regressors)"
   ]
  },
  {
   "cell_type": "code",
   "execution_count": null,
   "metadata": {},
   "outputs": [],
   "source": [
    "NUMBER_OF_MODELS = len(location_list_bremen)"
   ]
  },
  {
   "cell_type": "code",
   "execution_count": null,
   "metadata": {},
   "outputs": [],
   "source": [
    "# create dictionary to later save models\n",
    "prophet_models_per_location = {}\n",
    "\n",
    "# loop over location ids\n",
    "for n, location_id in enumerate(location_list_bremen[:NUMBER_OF_MODELS]):\n",
    "    # only take first 5 locations for test\n",
    "        print('-----'*10)\n",
    "        print(f'no: {n + 1}, location_id: {location_id}')\n",
    "\n",
    "        # limit dataframe to specific location_id\n",
    "        df_location = df_prophet[df_prophet['location_id'] == location_id]\n",
    "        df_location.drop('location_id', axis=1, inplace=True)\n",
    "\n",
    "        # init Prophet model and fit it to train data for one location\n",
    "        model = Prophet(yearly_seasonality=True)\n",
    "        model.fit(df_location)\n",
    "\n",
    "        # save model in dictionary\n",
    "        prophet_models_per_location[location_id] = model"
   ]
  },
  {
   "cell_type": "code",
   "execution_count": null,
   "metadata": {},
   "outputs": [],
   "source": [
    "# create dictionary to save prediction results\n",
    "prophet_forecasts_per_location = {}\n",
    "for location_id in location_list_bremen[:NUMBER_OF_MODELS]:\n",
    "    print('-----'*10)\n",
    "    print(f'location_id: {location_id}')\n",
    "\n",
    "    # load model for current location\n",
    "    model = prophet_models_per_location[location_id]\n",
    "    \n",
    "    # create dataframe for future predictions and predict\n",
    "    # 1416 = all Jan + Feb 2022\n",
    "    future = model.make_future_dataframe(periods=1416, freq='H')\n",
    "    forecast = model.predict(future)\n",
    "\n",
    "    # save predictions in dataframe\n",
    "    prophet_forecasts_per_location[location_id] = forecast"
   ]
  },
  {
   "cell_type": "code",
   "execution_count": null,
   "metadata": {},
   "outputs": [],
   "source": [
    "# deprecated\n",
    "def plot_model(model, forecast, file):\n",
    "\n",
    "    fig = model.plot(forecast, xlabel='Date', ylabel='Value', figsize=(20, 12))\n",
    "    ax = fig.gca()\n",
    "    #ax.set_title(\"Title\", size=34)\n",
    "    ax.set_xlabel(\"Date\", size=34)\n",
    "    ax.set_ylabel(\"PM 2.5 in µg/m³\", size=34)\n",
    "    ax.tick_params(axis=\"x\", labelsize=24)\n",
    "    ax.tick_params(axis=\"y\", labelsize=24)\n",
    "    ax.set_ylim(0,150)\n",
    "\n",
    "    fig.savefig(file, bbox_inches='tight', facecolor=\"#EEEEEE\")\n",
    "\n",
    "    plt.show()"
   ]
  },
  {
   "cell_type": "code",
   "execution_count": null,
   "metadata": {},
   "outputs": [],
   "source": [
    "def plot_model_with_future(model, forecast, future, file):\n",
    "\n",
    "    fig = model.plot(forecast, xlabel='Date', ylabel='Value', figsize=(20, 12))\n",
    "    ax = fig.gca()\n",
    "    \n",
    "    sns.scatterplot(data=future, x='timestamp', y='PM2p5', ax=ax, color='green')\n",
    "    #ax.set_title(\"Title\", size=34)\n",
    "    ax.set_xlabel(\"Date\", size=34)\n",
    "    ax.set_ylabel(\"PM 2.5 in µg/m³\", size=34)\n",
    "    ax.tick_params(axis=\"x\", labelsize=24)\n",
    "    ax.tick_params(axis=\"y\", labelsize=24)\n",
    "    ax.set_ylim(0,150)\n",
    "\n",
    "    fig.savefig(file, bbox_inches='tight', facecolor=\"#EEEEEE\")\n",
    "\n",
    "    plt.show()"
   ]
  },
  {
   "cell_type": "code",
   "execution_count": null,
   "metadata": {},
   "outputs": [],
   "source": [
    "# plot models\n",
    "for location_id in location_list_bremen[:NUMBER_OF_MODELS]:\n",
    "    model = prophet_models_per_location[location_id]\n",
    "    # limit test data to current location\n",
    "    df_test_location = df_test_data[df_test_data['location_id'] == location_id]\n",
    "    plot_model_with_future(model, prophet_forecasts_per_location[location_id], df_test_location, f'../images/prophet_location_id_{location_id}.png')"
   ]
  },
  {
   "cell_type": "code",
   "execution_count": null,
   "metadata": {},
   "outputs": [],
   "source": [
    "# plot components of models\n",
    "for location_id in location_list_bremen[:NUMBER_OF_MODELS]:\n",
    "    model = prophet_models_per_location[location_id]\n",
    "    fig = model.plot_components(prophet_forecasts_per_location[location_id], figsize=(20, 12))\n",
    "    fig.savefig(f'../images/prophet_components_location_id_{location_id}.png', bbox_inches='tight', facecolor=\"#EEEEEE\")"
   ]
  },
  {
   "cell_type": "code",
   "execution_count": null,
   "metadata": {},
   "outputs": [],
   "source": [
    "# interactive plot for location_id 125 (this does not work in a loop)\n",
    "model = prophet_models_per_location[125]\n",
    "plot_plotly(model, forecast) "
   ]
  },
  {
   "cell_type": "markdown",
   "metadata": {},
   "source": [
    "# Prophet with regressors"
   ]
  },
  {
   "cell_type": "code",
   "execution_count": null,
   "metadata": {},
   "outputs": [],
   "source": [
    "#df.head()"
   ]
  },
  {
   "cell_type": "code",
   "execution_count": null,
   "metadata": {},
   "outputs": [],
   "source": [
    "# preparing dataframe with regressors\n",
    "df_prophet_reg = df.query('city == \"Bremen\"')\n",
    "\n",
    "# first regressor is temperature_dwd\n",
    "df_prophet_reg = df_prophet_reg[['timestamp','PM2p5','location_id', 'humidity_dwd', 'temperature_dwd', 'pressure_dwd', 'wind_speed', 'precip']]  # \n",
    "df_prophet_reg.rename(columns={'timestamp': 'ds', 'PM2p5': 'y', 'humidity_dwd': 'humi', 'temperature_dwd': 'temp', 'pressure_dwd': 'press', 'wind_speed': 'windsp', 'precip': 'precip'}, inplace=True) #\n",
    "\n",
    "# drop nans\n",
    "print(df_prophet_reg.isna().sum())\n",
    "df_prophet_reg.dropna(inplace=True)\n",
    "\n",
    "location_list_bremen_reg = df_prophet_reg['location_id'].unique().tolist()\n"
   ]
  },
  {
   "cell_type": "code",
   "execution_count": null,
   "metadata": {},
   "outputs": [],
   "source": [
    "df_prophet_reg"
   ]
  },
  {
   "cell_type": "code",
   "execution_count": null,
   "metadata": {},
   "outputs": [],
   "source": [
    "NUMBER_OF_MODELS_REG = len(location_list_bremen_reg)"
   ]
  },
  {
   "cell_type": "code",
   "execution_count": null,
   "metadata": {},
   "outputs": [],
   "source": [
    "df_prophet_reg"
   ]
  },
  {
   "cell_type": "code",
   "execution_count": null,
   "metadata": {},
   "outputs": [],
   "source": [
    "# create dictionary to later save models\n",
    "prophet_models_per_location_reg = {}\n",
    "\n",
    "# loop over location ids\n",
    "for n, location_id in enumerate(location_list_bremen_reg[:NUMBER_OF_MODELS_REG]):\n",
    "    # only take first 5 locations for test\n",
    "    print('-----'*10)\n",
    "    print(f'no: {n + 1}, location_id: {location_id}')\n",
    "\n",
    "    # limit dataframe to specific location_id\n",
    "    df_location_reg = df_prophet_reg[df_prophet_reg['location_id'] == location_id]\n",
    "    df_location_reg.drop('location_id', axis=1, inplace=True)\n",
    "\n",
    "    # init Prophet model and fit it to train data for one location\n",
    "    model_reg = Prophet(yearly_seasonality=True, )\n",
    "    model_reg.add_regressor('temp', standardize=True)\n",
    "    model_reg.add_regressor('humi', standardize=True)\n",
    "    model_reg.add_regressor('press', standardize=True)\n",
    "    model_reg.add_regressor('windsp', standardize=True)\n",
    "    model_reg.add_regressor('precip', standardize=True)\n",
    "    model_reg.fit(df_location_reg)\n",
    "\n",
    "    # save model in dictionary\n",
    "    prophet_models_per_location_reg[location_id] = model_reg"
   ]
  },
  {
   "cell_type": "code",
   "execution_count": null,
   "metadata": {},
   "outputs": [],
   "source": [
    "def create_regressor_column(ds, train_col, test_col):\n",
    "    \"\"\"Get a regressor of train or test data for corresponding timestamp\n",
    "\n",
    "    Args:\n",
    "        ds (datetime): timestamp\n",
    "        train_col (string): column name of regressor in train data\n",
    "        test_col (string): column name of regressor in test data\n",
    "\n",
    "    Returns:\n",
    "        float: regressor value for given timestamp\n",
    "    \"\"\"\n",
    "    \n",
    "    if ds in df_prophet_reg['ds'].values:\n",
    "        return df_prophet_reg[df_prophet_reg['ds'] == ds][train_col].values[0]\n",
    "    elif ds in df_test_data['timestamp'].values:\n",
    "        return df_test_data[df_test_data['timestamp'] == ds][test_col].values[0]\n",
    "    else:\n",
    "        return np.nan\n",
    "   "
   ]
  },
  {
   "cell_type": "code",
   "execution_count": null,
   "metadata": {},
   "outputs": [],
   "source": [
    "# create dictionary to save prediction results\n",
    "prophet_forecasts_per_location_reg = {}\n",
    "for location_id in location_list_bremen_reg[:NUMBER_OF_MODELS_REG]:\n",
    "    print('-----'*10)\n",
    "    print(f'location_id: {location_id}')\n",
    "\n",
    "    # load model for current location\n",
    "    model_reg = prophet_models_per_location_reg[location_id]\n",
    "\n",
    "    # limit test data to current location\n",
    "    df_test_location = df_test_data[df_test_data['location_id'] == location_id]\n",
    "    \n",
    "    # create dataframe for future predictions and predict\n",
    "    # 1416 = all Jan + Feb 2022\n",
    "    future_reg = model_reg.make_future_dataframe(periods=1416, freq='H')\n",
    "    future_reg['temp'] = future_reg['ds'].apply(create_regressor_column, args=('temp', 'temperature_dwd'))\n",
    "    future_reg['humi'] = future_reg['ds'].apply(create_regressor_column, args=('humi', 'humidity_dwd'))\n",
    "    future_reg['press'] = future_reg['ds'].apply(create_regressor_column, args=('press', 'pressure_dwd'))\n",
    "    future_reg['windsp'] = future_reg['ds'].apply(create_regressor_column, args=('windsp', 'wind_speed'))   \n",
    "    future_reg['precip'] = future_reg['ds'].apply(create_regressor_column, args=('precip', 'precip'))   \n",
    "    # drop nans\n",
    "    future_reg.dropna(inplace=True)\n",
    "\n",
    "    forecast_reg = model_reg.predict(future_reg)\n",
    "\n",
    "    # save predictions in dataframe\n",
    "    prophet_forecasts_per_location_reg[location_id] = forecast_reg"
   ]
  },
  {
   "cell_type": "code",
   "execution_count": null,
   "metadata": {},
   "outputs": [],
   "source": [
    "# plot models\n",
    "for location_id in location_list_bremen_reg[:NUMBER_OF_MODELS_REG]:\n",
    "    model_reg = prophet_models_per_location_reg[location_id]\n",
    "    # limit test data to current location\n",
    "    df_test_location = df_test_data[df_test_data['location_id'] == location_id]\n",
    "    plot_model_with_future(model_reg, prophet_forecasts_per_location_reg[location_id], df_test_location, f'../images/prophet_reg_location_id_{location_id}.png')"
   ]
  },
  {
   "cell_type": "code",
   "execution_count": null,
   "metadata": {},
   "outputs": [],
   "source": [
    "# plot components of models\n",
    "for location_id in location_list_bremen_reg[:NUMBER_OF_MODELS_REG]:\n",
    "    model_reg = prophet_models_per_location_reg[location_id]\n",
    "    fig2 = model_reg.plot_components(prophet_forecasts_per_location_reg[location_id], figsize=(20, 12))\n",
    "\n",
    "    fig2.savefig(f'../images/prophet_components_reg_location_id_{location_id}.png', bbox_inches='tight', facecolor=\"#EEEEEE\")"
   ]
  },
  {
   "cell_type": "code",
   "execution_count": null,
   "metadata": {},
   "outputs": [],
   "source": [
    "# interactive plot for location_id 125 (this does not work in a loop) with regressors\n",
    "model_reg = prophet_models_per_location_reg[125]\n",
    "plot_plotly(model_reg, prophet_forecasts_per_location_reg[125])\n"
   ]
  },
  {
   "cell_type": "markdown",
   "metadata": {},
   "source": [
    "# Calculating RMSE"
   ]
  },
  {
   "cell_type": "code",
   "execution_count": null,
   "metadata": {},
   "outputs": [],
   "source": [
    "df_test_data"
   ]
  },
  {
   "cell_type": "code",
   "execution_count": null,
   "metadata": {},
   "outputs": [],
   "source": [
    "number_of_hours = 1416"
   ]
  },
  {
   "cell_type": "code",
   "execution_count": null,
   "metadata": {},
   "outputs": [],
   "source": [
    "rmse_dict = {}\n",
    "for location_id in location_list_bremen[:NUMBER_OF_MODELS_REG]:\n",
    "    # limit columns of test data for calculating rmse\n",
    "    df_test_location = df_test_data[df_test_data['location_id'] == location_id]\n",
    "    df_rmse = df_test_location[['timestamp', 'PM2p5']]\n",
    "\n",
    "    # merge forecast to test data\n",
    "    df_rmse = df_rmse.merge(prophet_forecasts_per_location[location_id][['yhat', 'ds']], how='left', left_on='timestamp', right_on='ds')\n",
    "    df_rmse.drop(columns='ds', axis=1, inplace=True)\n",
    "\n",
    "    df_rmse.dropna(inplace=True)\n",
    "\n",
    "    # calculate rmse for specific time span\n",
    "    rmse = mean_squared_error(np.asarray(df_rmse.loc[0:number_of_hours,['PM2p5']]), np.asarray(df_rmse.loc[0:number_of_hours,['yhat']]), squared=False)\n",
    "    rmse_dict[location_id] = rmse"
   ]
  },
  {
   "cell_type": "code",
   "execution_count": null,
   "metadata": {},
   "outputs": [],
   "source": [
    "rmse_dict_reg = {}\n",
    "for location_id in location_list_bremen[:NUMBER_OF_MODELS_REG]:\n",
    "    # limit columns of test data for calculating rmse\n",
    "    df_test_location = df_test_data[df_test_data['location_id'] == location_id]\n",
    "    df_rmse = df_test_location[['timestamp', 'PM2p5']]\n",
    "\n",
    "    # merge forecast to test data\n",
    "    df_rmse = df_rmse.merge(prophet_forecasts_per_location_reg[location_id][['yhat', 'ds']], how='left', left_on='timestamp', right_on='ds')\n",
    "    df_rmse.drop(columns='ds', axis=1, inplace=True)\n",
    "\n",
    "    df_rmse.dropna(inplace=True)\n",
    "\n",
    "    # calculate rmse for specific time span\n",
    "    rmse = mean_squared_error(np.asarray(df_rmse.loc[0:number_of_hours,['PM2p5']]), np.asarray(df_rmse.loc[0:number_of_hours,['yhat']]), squared=False)\n",
    "    rmse_dict_reg[location_id] = rmse\n"
   ]
  },
  {
   "cell_type": "code",
   "execution_count": null,
   "metadata": {},
   "outputs": [],
   "source": [
    "rmse_dict_reg"
   ]
  },
  {
   "cell_type": "code",
   "execution_count": null,
   "metadata": {},
   "outputs": [],
   "source": [
    "df_rmse = pd.DataFrame.from_dict(data=rmse_dict, orient='index')\n",
    "df_rmse_reg = pd.DataFrame.from_dict(data=rmse_dict_reg, orient='index')\n",
    "\n",
    "df_rmse.reset_index(inplace=True)\n",
    "df_rmse_reg.reset_index(inplace=True)\n",
    "\n",
    "df_rmse.columns = ['location_id','rmse']\n",
    "df_rmse_reg.columns = ['location_id','rmse_reg']\n"
   ]
  },
  {
   "cell_type": "code",
   "execution_count": null,
   "metadata": {},
   "outputs": [],
   "source": [
    "df_rmse_all = df_rmse.merge(df_rmse_reg, how='outer', on='location_id')"
   ]
  },
  {
   "cell_type": "code",
   "execution_count": null,
   "metadata": {},
   "outputs": [],
   "source": [
    "df_rmse_all.to_csv('../models/prophet_rmse_bremen.csv')"
   ]
  }
 ],
 "metadata": {
  "interpreter": {
   "hash": "dd274dd0e888e4827d27c0f0cddff490366d06b521b28e260a17e10b7541cd62"
  },
  "kernelspec": {
   "display_name": "Python 3.9.4 ('.venv': venv)",
   "language": "python",
   "name": "python3"
  },
  "language_info": {
   "codemirror_mode": {
    "name": "ipython",
    "version": 3
   },
   "file_extension": ".py",
   "mimetype": "text/x-python",
   "name": "python",
   "nbconvert_exporter": "python",
   "pygments_lexer": "ipython3",
   "version": "3.9.4"
  },
  "orig_nbformat": 4
 },
 "nbformat": 4,
 "nbformat_minor": 2
}
