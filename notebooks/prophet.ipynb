{
 "cells": [
  {
   "cell_type": "code",
   "execution_count": null,
   "metadata": {},
   "outputs": [],
   "source": [
    "import pandas as pd\n",
    "from prophet import Prophet\n",
    "\n",
    "import seaborn as sns\n",
    "import matplotlib.pyplot as plt\n",
    "\n",
    "from prophet.plot import plot_plotly, plot_components_plotly\n",
    "\n",
    "import plotly.io as pio\n",
    "pio.renderers.default = \"notebook\"\n",
    "\n",
    "plt.style.use('Solarize_Light2')"
   ]
  },
  {
   "cell_type": "code",
   "execution_count": null,
   "metadata": {},
   "outputs": [],
   "source": [
    "df = pd.read_csv('../data/processed_sensor_dwd_train.csv', index_col=0)"
   ]
  },
  {
   "cell_type": "code",
   "execution_count": null,
   "metadata": {},
   "outputs": [],
   "source": [
    "# add sensor IDs\n",
    "df_location = df.groupby(['lat', 'lon']).count().reset_index()[['lat', 'lon']]\n",
    "df_location['location_id'] = df_location.index+1\n",
    "df = df.merge(df_location, on=['lat', 'lon'], how='left')"
   ]
  },
  {
   "cell_type": "code",
   "execution_count": null,
   "metadata": {},
   "outputs": [],
   "source": [
    "df"
   ]
  },
  {
   "cell_type": "code",
   "execution_count": null,
   "metadata": {},
   "outputs": [],
   "source": [
    "df_prophet = df.query('city == \"Bremen\"')\n",
    "df_prophet = df_prophet[['timestamp','PM2p5','location_id']]\n",
    "df_prophet.rename(columns={'timestamp': 'ds', 'PM2p5': 'y'}, inplace=True)\n",
    "\n",
    "df_prophet.dropna(inplace=True)\n",
    "\n",
    "location_list_bremen = df_prophet['location_id'].unique().tolist()\n",
    "\n",
    "df_prophet.location_id.nunique()\n",
    "df_prophet.isna().sum()\n",
    "df_prophet"
   ]
  },
  {
   "cell_type": "code",
   "execution_count": null,
   "metadata": {},
   "outputs": [],
   "source": [
    "prophet_models_per_location = {}\n",
    "\n",
    "for n, location_id in enumerate(location_list_bremen):\n",
    "    print('-----'*10)\n",
    "    print(f'no: {n + 1}, location_id: {location_id}')\n",
    "    df_location = df_prophet[df_prophet['location_id'] == location_id]\n",
    "    df_location.drop('location_id', axis=1, inplace=True)\n",
    "    model = Prophet()\n",
    "    model.fit(df_location)\n",
    "\n",
    "    prophet_models_per_location[location_id] = model"
   ]
  },
  {
   "cell_type": "code",
   "execution_count": null,
   "metadata": {},
   "outputs": [],
   "source": [
    "prophet_forecasts_per_location = {}\n",
    "for location_id in location_list_bremen:\n",
    "    print('-----'*10)\n",
    "    print(f'location_id: {location_id}')\n",
    "    model = prophet_models_per_location[location_id]\n",
    "    \n",
    "    future = model.make_future_dataframe(periods=240, freq='H')\n",
    "    forecast = model.predict(future)\n",
    "\n",
    "    prophet_forecasts_per_location[location_id] = forecast"
   ]
  },
  {
   "cell_type": "code",
   "execution_count": null,
   "metadata": {},
   "outputs": [],
   "source": [
    "location_list_bremen"
   ]
  },
  {
   "cell_type": "code",
   "execution_count": null,
   "metadata": {},
   "outputs": [],
   "source": [
    "for location_id in location_list_bremen:\n",
    "    model = prophet_models_per_location[location_id]\n",
    "    fig1 = model.plot(prophet_forecasts_per_location[location_id])\n"
   ]
  },
  {
   "cell_type": "code",
   "execution_count": null,
   "metadata": {},
   "outputs": [],
   "source": [
    "for location_id in location_list_bremen:\n",
    "    model = prophet_models_per_location[location_id]\n",
    "    fig2 = model.plot_components(prophet_forecasts_per_location[location_id])"
   ]
  },
  {
   "cell_type": "code",
   "execution_count": null,
   "metadata": {},
   "outputs": [],
   "source": [
    "#for location_id in location_list_bremen:\n",
    "model = prophet_models_per_location[125]\n",
    "plot_plotly(model, forecast) "
   ]
  }
 ],
 "metadata": {
  "interpreter": {
   "hash": "dd274dd0e888e4827d27c0f0cddff490366d06b521b28e260a17e10b7541cd62"
  },
  "kernelspec": {
   "display_name": "Python 3.9.4 ('.venv': venv)",
   "language": "python",
   "name": "python3"
  },
  "language_info": {
   "codemirror_mode": {
    "name": "ipython",
    "version": 3
   },
   "file_extension": ".py",
   "mimetype": "text/x-python",
   "name": "python",
   "nbconvert_exporter": "python",
   "pygments_lexer": "ipython3",
   "version": "3.9.4"
  },
  "orig_nbformat": 4
 },
 "nbformat": 4,
 "nbformat_minor": 2
}
