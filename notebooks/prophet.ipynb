{
 "cells": [
  {
   "cell_type": "markdown",
   "metadata": {},
   "source": [
    "# Time Series Analysis with Prophet model"
   ]
  },
  {
   "cell_type": "code",
   "execution_count": null,
   "metadata": {},
   "outputs": [],
   "source": [
    "import pandas as pd\n",
    "import numpy as np\n",
    "from prophet import Prophet\n",
    "\n",
    "import seaborn as sns\n",
    "import matplotlib.pyplot as plt\n",
    "\n",
    "from prophet.plot import plot_plotly, plot_components_plotly\n",
    "\n",
    "from sklearn.metrics import mean_squared_error\n",
    "\n",
    "import plotly.io as pio\n",
    "pio.renderers.default = \"notebook\"\n",
    "\n",
    "plt.style.use('Solarize_Light2')"
   ]
  },
  {
   "cell_type": "code",
   "execution_count": null,
   "metadata": {},
   "outputs": [],
   "source": [
    "# import train data and format timestamp column\n",
    "df = pd.read_csv('../data/cleaned_sensors_dwd_train.csv', index_col=0)\n",
    "df['timestamp'] = pd.to_datetime(df['timestamp'])"
   ]
  },
  {
   "cell_type": "code",
   "execution_count": null,
   "metadata": {},
   "outputs": [],
   "source": [
    "df"
   ]
  },
  {
   "cell_type": "code",
   "execution_count": null,
   "metadata": {},
   "outputs": [],
   "source": [
    "# reduce data to city Bremen\n",
    "df_prophet = df.query('city == \"Bremen\"')\n",
    "df_prophet = df_prophet[['timestamp','PM2p5','location_id']]\n",
    "\n",
    "# rename columns to expected format for prophet\n",
    "df_prophet.rename(columns={'timestamp': 'ds', 'PM2p5': 'y'}, inplace=True)\n",
    "\n",
    "# prophet can not handle nans in dataframe\n",
    "df_prophet.dropna(inplace=True)\n",
    "\n",
    "# create list of location ids for later loop\n",
    "location_list_bremen = df_prophet['location_id'].unique().tolist()\n",
    "\n",
    "# check number of locations\n",
    "df_prophet.location_id.nunique()"
   ]
  },
  {
   "cell_type": "markdown",
   "metadata": {},
   "source": [
    "## Prophet model for all locations in Bremen (without regressors)"
   ]
  },
  {
   "cell_type": "code",
   "execution_count": null,
   "metadata": {},
   "outputs": [],
   "source": [
    "# create dictionary to later save models\n",
    "prophet_models_per_location = {}\n",
    "\n",
    "# loop over location ids\n",
    "for n, location_id in enumerate(location_list_bremen):\n",
    "    # only take first 5 locations for test\n",
    "    if n<5:\n",
    "        print('-----'*10)\n",
    "        print(f'no: {n + 1}, location_id: {location_id}')\n",
    "\n",
    "        # limit dataframe to specific location_id\n",
    "        df_location = df_prophet[df_prophet['location_id'] == location_id]\n",
    "        df_location.drop('location_id', axis=1, inplace=True)\n",
    "\n",
    "        # init Prophet model and fit it to train data for one location\n",
    "        model = Prophet(yearly_seasonality=True)\n",
    "        model.fit(df_location)\n",
    "\n",
    "        # save model in dictionary\n",
    "        prophet_models_per_location[location_id] = model"
   ]
  },
  {
   "cell_type": "code",
   "execution_count": null,
   "metadata": {},
   "outputs": [],
   "source": [
    "# create dictionary to save prediction results\n",
    "prophet_forecasts_per_location = {}\n",
    "for location_id in location_list_bremen[:5]:\n",
    "    print('-----'*10)\n",
    "    print(f'location_id: {location_id}')\n",
    "\n",
    "    # load model for current location\n",
    "    model = prophet_models_per_location[location_id]\n",
    "    \n",
    "    # create dataframe for future predictions and predict\n",
    "    future = model.make_future_dataframe(periods=960, freq='H')\n",
    "    forecast = model.predict(future)\n",
    "\n",
    "    # save predictions in dataframe\n",
    "    prophet_forecasts_per_location[location_id] = forecast"
   ]
  },
  {
   "cell_type": "code",
   "execution_count": null,
   "metadata": {},
   "outputs": [],
   "source": [
    "# plot models\n",
    "for location_id in location_list_bremen[:5]:\n",
    "    model = prophet_models_per_location[location_id]\n",
    "    fig1 = model.plot(prophet_forecasts_per_location[location_id])\n"
   ]
  },
  {
   "cell_type": "code",
   "execution_count": null,
   "metadata": {},
   "outputs": [],
   "source": [
    "# plot components of models\n",
    "for location_id in location_list_bremen[:5]:\n",
    "    model = prophet_models_per_location[location_id]\n",
    "    fig2 = model.plot_components(prophet_forecasts_per_location[location_id])"
   ]
  },
  {
   "cell_type": "code",
   "execution_count": null,
   "metadata": {},
   "outputs": [],
   "source": [
    "# interactive plot for location_id 125 (this does not work in a loop)\n",
    "model = prophet_models_per_location[125]\n",
    "plot_plotly(model, forecast) "
   ]
  },
  {
   "cell_type": "markdown",
   "metadata": {},
   "source": [
    "# Prophet with regressors"
   ]
  },
  {
   "cell_type": "code",
   "execution_count": null,
   "metadata": {},
   "outputs": [],
   "source": [
    "# preparing dataframe with regressors\n",
    "df_prophet_reg = df.query('city == \"Bremen\"')\n",
    "\n",
    "# first regressor is temperature_dwd\n",
    "df_prophet_reg = df_prophet_reg[['timestamp','PM2p5','location_id', 'temperature_dwd']]\n",
    "df_prophet_reg.rename(columns={'timestamp': 'ds', 'PM2p5': 'y', 'temperature_dwd': 'temp'}, inplace=True)\n",
    "\n",
    "# drop nans\n",
    "print(df_prophet_reg.isna().sum())\n",
    "df_prophet_reg.dropna(inplace=True)\n",
    "\n",
    "location_list_bremen_reg = df_prophet_reg['location_id'].unique().tolist()\n",
    "\n",
    "#df_prophet_reg.location_id.nunique()\n",
    "\n",
    "# limit to one location 125\n",
    "location_id = 125\n",
    "\n",
    "df_prophet_reg = df_prophet_reg[df_prophet_reg['location_id'] == location_id]\n",
    "df_prophet_reg.drop('location_id', axis=1, inplace=True)"
   ]
  },
  {
   "cell_type": "code",
   "execution_count": null,
   "metadata": {},
   "outputs": [],
   "source": [
    "df_prophet_reg"
   ]
  },
  {
   "cell_type": "code",
   "execution_count": null,
   "metadata": {},
   "outputs": [],
   "source": [
    "model_reg = Prophet(yearly_seasonality=True)\n",
    "model_reg.add_regressor('temp')\n",
    "model_reg.fit(df_prophet_reg)"
   ]
  },
  {
   "cell_type": "code",
   "execution_count": null,
   "metadata": {},
   "outputs": [],
   "source": [
    "# identify lat and long for chosen location_id\n",
    "print(df[df['location_id'] == 125]['lat'].unique())\n",
    "print(df[df['location_id'] == 125]['lon'].unique())\n",
    "# 53.014\t8.886\t"
   ]
  },
  {
   "cell_type": "code",
   "execution_count": null,
   "metadata": {},
   "outputs": [],
   "source": [
    "# load test data\n",
    "df_test_data = pd.read_csv('../data/processed_sensor_dwd_test.csv', index_col=0)\n",
    "df_test_data['timestamp'] = pd.to_datetime(df_test_data['timestamp'])\n",
    "\n",
    "# limit to location_id of train data (because we do not have location_id here yet)\n",
    "# location_id 125 --> 53.014\t8.886\t\n",
    "df_test_data = df_test_data[(df_test_data['lat'] == 53.014) & (df_test_data['lon'] == 8.886)]"
   ]
  },
  {
   "cell_type": "code",
   "execution_count": null,
   "metadata": {},
   "outputs": [],
   "source": [
    "df_test_data"
   ]
  },
  {
   "cell_type": "code",
   "execution_count": null,
   "metadata": {},
   "outputs": [],
   "source": [
    "def weather_temp(ds):\n",
    "    \"\"\"Get a temperature of train or test data for corresponding timestamp\n",
    "\n",
    "    Args:\n",
    "        ds (datetime): timestamp\n",
    "\n",
    "    Returns:\n",
    "        float: temperature value for given timestamp\n",
    "    \"\"\"\n",
    "    \n",
    "    if ds in df_prophet_reg['ds'].values:\n",
    "        return df_prophet_reg[df_prophet_reg['ds'] == ds]['temp'].values[0]\n",
    "    elif ds in df_test_data['timestamp'].values:\n",
    "        return df_test_data[df_test_data['timestamp'] == ds]['temperature_dwd'].values[0]\n",
    "    else:\n",
    "        return np.nan\n",
    "   "
   ]
  },
  {
   "cell_type": "code",
   "execution_count": null,
   "metadata": {},
   "outputs": [],
   "source": [
    "# create future dataframe and apply function to fill temp column with train and test data\n",
    "future_reg = model_reg.make_future_dataframe(periods=960, freq='H')\n",
    "future_reg['temp'] = future_reg['ds'].apply(weather_temp)"
   ]
  },
  {
   "cell_type": "code",
   "execution_count": null,
   "metadata": {},
   "outputs": [],
   "source": [
    "future_reg"
   ]
  },
  {
   "cell_type": "code",
   "execution_count": null,
   "metadata": {},
   "outputs": [],
   "source": [
    "# drop nans\n",
    "future_reg.dropna(inplace=True)"
   ]
  },
  {
   "cell_type": "code",
   "execution_count": null,
   "metadata": {},
   "outputs": [],
   "source": [
    "# make prediction\n",
    "forecast_reg = model_reg.predict(future_reg)"
   ]
  },
  {
   "cell_type": "code",
   "execution_count": null,
   "metadata": {},
   "outputs": [],
   "source": [
    "forecast_reg"
   ]
  },
  {
   "cell_type": "code",
   "execution_count": null,
   "metadata": {},
   "outputs": [],
   "source": [
    "# model without temperature regressor\n",
    "fig1 = model.plot(prophet_forecasts_per_location[125])"
   ]
  },
  {
   "cell_type": "code",
   "execution_count": null,
   "metadata": {},
   "outputs": [],
   "source": [
    "# model with temperature regressor\n",
    "fig1 = model_reg.plot(forecast_reg)"
   ]
  },
  {
   "cell_type": "code",
   "execution_count": null,
   "metadata": {},
   "outputs": [],
   "source": [
    "# without regressor\n",
    "fig2 = model.plot_components(prophet_forecasts_per_location[location_id])"
   ]
  },
  {
   "cell_type": "code",
   "execution_count": null,
   "metadata": {},
   "outputs": [],
   "source": [
    "# with temperature regressor\n",
    "fig2 = model_reg.plot_components(forecast_reg)"
   ]
  },
  {
   "cell_type": "code",
   "execution_count": null,
   "metadata": {},
   "outputs": [],
   "source": [
    "# without regressor\n",
    "model = prophet_models_per_location[125]\n",
    "plot_plotly(model, forecast) "
   ]
  },
  {
   "cell_type": "code",
   "execution_count": null,
   "metadata": {},
   "outputs": [],
   "source": [
    "# with temperature regressor\n",
    "plot_plotly(model_reg, forecast_reg) "
   ]
  },
  {
   "cell_type": "markdown",
   "metadata": {},
   "source": [
    "# Calculating RMSE"
   ]
  },
  {
   "cell_type": "code",
   "execution_count": null,
   "metadata": {},
   "outputs": [],
   "source": [
    "# limit columns of test data for calculating rmse\n",
    "df_rmse = df_test_data[['timestamp', 'PM2p5']]\n",
    "\n",
    "# merge forecast to test data\n",
    "df_rmse = df_rmse.merge(forecast_reg[['yhat', 'ds']], how='left', left_on='timestamp', right_on='ds')\n",
    "df_rmse.drop(columns='ds', axis=1, inplace=True)\n",
    "\n",
    "df_rmse.dropna(inplace=True)\n",
    "\n",
    "df_rmse"
   ]
  },
  {
   "cell_type": "code",
   "execution_count": null,
   "metadata": {},
   "outputs": [],
   "source": [
    "# calculate rmse for specific time span\n",
    "rmse = mean_squared_error(np.asarray(df_rmse.loc[0:48,['PM2p5']]), np.asarray(df_rmse.loc[0:48,['yhat']]), squared=False)\n",
    "\n",
    "rmse"
   ]
  }
 ],
 "metadata": {
  "interpreter": {
   "hash": "dd274dd0e888e4827d27c0f0cddff490366d06b521b28e260a17e10b7541cd62"
  },
  "kernelspec": {
   "display_name": "Python 3.9.4 ('.venv': venv)",
   "language": "python",
   "name": "python3"
  },
  "language_info": {
   "codemirror_mode": {
    "name": "ipython",
    "version": 3
   },
   "file_extension": ".py",
   "mimetype": "text/x-python",
   "name": "python",
   "nbconvert_exporter": "python",
   "pygments_lexer": "ipython3",
   "version": "3.9.4"
  },
  "orig_nbformat": 4
 },
 "nbformat": 4,
 "nbformat_minor": 2
}
