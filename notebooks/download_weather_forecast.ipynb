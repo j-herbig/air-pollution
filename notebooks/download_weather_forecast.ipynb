{
 "cells": [
  {
   "cell_type": "code",
   "execution_count": null,
   "metadata": {},
   "outputs": [],
   "source": [
    "#!pip install meteomatics"
   ]
  },
  {
   "cell_type": "code",
   "execution_count": 2,
   "metadata": {},
   "outputs": [],
   "source": [
    "import pandas as pd\n",
    "import meteomatics.api as api\n",
    "import datetime as dt"
   ]
  },
  {
   "cell_type": "markdown",
   "metadata": {},
   "source": [
    "## Download weather forecast with Meteomatics API\n",
    "\n",
    "Set weather parameters to be downloaded according to [API Docs](https://www.meteomatics.com/en/api/available-parameters/).\n"
   ]
  },
  {
   "cell_type": "code",
   "execution_count": null,
   "metadata": {},
   "outputs": [],
   "source": [
    "parameters_ts = ['t_2m:C', 'msl_pressure:hPa', 'precip_1h:mm', 'wind_speed_10m:ms', 'wind_dir_10m:d']\n",
    "\n",
    "now = dt.datetime.utcnow().replace(minute=0, second=0, microsecond=0)\n",
    "startdate_ts = now\n",
    "enddate_ts = startdate_ts + dt.timedelta(days=9)\n",
    "interval_ts = dt.timedelta(hours=1)\n",
    "\n",
    "username = 'neuefischegmbh_rankovic'\n",
    "password = '2Fsy8O2NzQ'\n",
    "\n",
    "coordinates_ts, city = [(50.0259, 8.5213)], 'Frankfurt' \n",
    "coordinates_ts_1, city_1 = [(53.0451, 8.7981)], 'Bremen'\n",
    "\n",
    "try:\n",
    "    df_ts = api.query_time_series(coordinates_ts, startdate_ts, enddate_ts, interval_ts,\n",
    "                                  parameters_ts, username, password)\n",
    "    df_ts_1 = api.query_time_series(coordinates_ts_1, startdate_ts, enddate_ts, interval_ts,\n",
    "                                  parameters_ts, username, password)\n",
    "except Exception as e:\n",
    "    print(\"Failed, the exception is {}\".format(e))\n"
   ]
  },
  {
   "cell_type": "code",
   "execution_count": null,
   "metadata": {},
   "outputs": [],
   "source": [
    "df_ts = df_ts.reset_index()\n",
    "df_ts['city'] = city\n",
    "df_ts = df_ts.rename(columns={'validdate': 'timestamp', 't_2m:C': 'temperature', 'msl_pressure:hPa': 'pressure', 'precip_1h:mm': 'precip', 'wind_speed_10m:ms': 'wind_speed', 'wind_dir_10m:d': 'wind_direction'})"
   ]
  },
  {
   "cell_type": "code",
   "execution_count": null,
   "metadata": {},
   "outputs": [],
   "source": [
    "df_ts_1 = df_ts_1.reset_index()\n",
    "df_ts_1['city'] = city_1\n",
    "df_ts_1 = df_ts_1.rename(columns={'validdate': 'timestamp', 't_2m:C': 'temperature', 'msl_pressure:hPa': 'pressure', 'precip_1h:mm': 'precip', 'wind_speed_10m:ms': 'wind_speed', 'wind_dir_10m:d': 'wind_direction'})"
   ]
  },
  {
   "cell_type": "code",
   "execution_count": null,
   "metadata": {},
   "outputs": [],
   "source": [
    "df_ts['timestamp'] = df_ts['timestamp'].dt.tz_localize(None)\n",
    "df_ts_1['timestamp'] = df_ts_1['timestamp'].dt.tz_localize(None)\n",
    "df_ts.head()"
   ]
  },
  {
   "cell_type": "code",
   "execution_count": null,
   "metadata": {},
   "outputs": [],
   "source": [
    "df_ts.to_csv(f'../data/Meteomatics/processed_weather_forecast_{city}_{now.date()}.csv', index=False)\n",
    "df_ts_1.to_csv(f'../data/Meteomatics/processed_weather_forecast_{city_1}_{now.date()}.csv', index=False)\n"
   ]
  },
  {
   "cell_type": "markdown",
   "metadata": {},
   "source": [
    "### Crontab\n",
    "\n",
    "Does not work for Notebooks. \n",
    "\n",
    "Therefore the content of this notebook is in 'meteomatics_download.py'.\n",
    "\n",
    "To automate the download, do the following: \n",
    "\n",
    "1. Open Terminal\n",
    "\n",
    "2. Start Crontab \n",
    "\n",
    "```\n",
    "crontab -e\n",
    "```\n",
    "3. vim editor appears, press I, then insert one or more cronjobs:\n",
    "```\n",
    "15 9 * * * /Users/filip/neuefische/air-pollution/.venv/bin/python3 /Users/filip/neuefische/air-pollution/notebooks/meteomatics_download.py\n",
    "```\n",
    "\n",
    "Runs a script every morning at 9:15 a.m.. Helpful resource: [Crontab Expression Generator](https://crontab.guru)"
   ]
  }
 ],
 "metadata": {
  "interpreter": {
   "hash": "4a077374ed4dbb64161d40ed2104c7e33247b48512da5a01adf0d791950a02fa"
  },
  "kernelspec": {
   "display_name": "Python 3.9.4 ('.venv': venv)",
   "language": "python",
   "name": "python3"
  },
  "language_info": {
   "codemirror_mode": {
    "name": "ipython",
    "version": 3
   },
   "file_extension": ".py",
   "mimetype": "text/x-python",
   "name": "python",
   "nbconvert_exporter": "python",
   "pygments_lexer": "ipython3",
   "version": "3.9.4"
  },
  "orig_nbformat": 4
 },
 "nbformat": 4,
 "nbformat_minor": 2
}
