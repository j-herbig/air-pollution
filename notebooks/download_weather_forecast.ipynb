{
 "cells": [
  {
   "cell_type": "code",
   "execution_count": null,
   "metadata": {},
   "outputs": [],
   "source": [
    "#!pip install meteomatics"
   ]
  },
  {
   "cell_type": "code",
   "execution_count": null,
   "metadata": {},
   "outputs": [],
   "source": [
    "import pandas as pd\n",
    "import meteomatics.api as api\n",
    "import datetime as dt"
   ]
  },
  {
   "cell_type": "markdown",
   "metadata": {},
   "source": [
    "## Download weather forecast with Meteomatics API\n",
    "\n",
    "Set weather parameters to be downloaded according to [API Docs](https://www.meteomatics.com/en/api/available-parameters/).\n"
   ]
  },
  {
   "cell_type": "code",
   "execution_count": null,
   "metadata": {},
   "outputs": [],
   "source": [
    "parameters_ts = ['t_2m:C', 'msl_pressure:hPa', 'precip_1h:mm', 'wind_speed_10m:ms', 'wind_dir_10m:d']\n",
    "\n",
    "now = dt.datetime.utcnow().replace(minute=0, second=0, microsecond=0)\n",
    "startdate_ts = now\n",
    "enddate_ts = startdate_ts + dt.timedelta(days=7)\n",
    "interval_ts = dt.timedelta(hours=1)\n",
    "\n",
    "username = 'neuefischegmbh_rankovic'\n",
    "password = '2Fsy8O2NzQ'\n",
    "\n",
    "coordinates_ts, city = [(50.0259, 8.5213)], 'Frankfurt' \n",
    "#coordinates_ts, city = [(53.0451, 8.7981)], 'Bremen'\n",
    "\n",
    "try:\n",
    "    df_ts = api.query_time_series(coordinates_ts, startdate_ts, enddate_ts, interval_ts,\n",
    "                                  parameters_ts, username, password)\n",
    "except Exception as e:\n",
    "    print(\"Failed, the exception is {}\".format(e))\n"
   ]
  },
  {
   "cell_type": "code",
   "execution_count": null,
   "metadata": {},
   "outputs": [],
   "source": [
    "df_ts = df_ts.reset_index()\n",
    "df_ts['city'] = city\n",
    "df_ts = df_ts.rename(columns={'validdate': 'timestamp', 't_2m:C': 'temperature', 'msl_pressure:hPa': 'pressure', 'precip_1h:mm': 'precip', 'wind_speed_10m:ms': 'wind_speed', 'wind_dir_10m:d': 'wind_direction'})"
   ]
  },
  {
   "cell_type": "code",
   "execution_count": 36,
   "metadata": {},
   "outputs": [
    {
     "data": {
      "text/html": [
       "<div>\n",
       "<style scoped>\n",
       "    .dataframe tbody tr th:only-of-type {\n",
       "        vertical-align: middle;\n",
       "    }\n",
       "\n",
       "    .dataframe tbody tr th {\n",
       "        vertical-align: top;\n",
       "    }\n",
       "\n",
       "    .dataframe thead th {\n",
       "        text-align: right;\n",
       "    }\n",
       "</style>\n",
       "<table border=\"1\" class=\"dataframe\">\n",
       "  <thead>\n",
       "    <tr style=\"text-align: right;\">\n",
       "      <th></th>\n",
       "      <th>lat</th>\n",
       "      <th>lon</th>\n",
       "      <th>timestamp</th>\n",
       "      <th>temperature</th>\n",
       "      <th>pressure</th>\n",
       "      <th>precip</th>\n",
       "      <th>wind_speed</th>\n",
       "      <th>wind_direction</th>\n",
       "      <th>city</th>\n",
       "    </tr>\n",
       "  </thead>\n",
       "  <tbody>\n",
       "    <tr>\n",
       "      <th>0</th>\n",
       "      <td>50.0259</td>\n",
       "      <td>8.5213</td>\n",
       "      <td>2022-03-14 16:00:00</td>\n",
       "      <td>12.8</td>\n",
       "      <td>1028.6</td>\n",
       "      <td>0.0</td>\n",
       "      <td>3.8</td>\n",
       "      <td>265.0</td>\n",
       "      <td>Frankfurt</td>\n",
       "    </tr>\n",
       "    <tr>\n",
       "      <th>1</th>\n",
       "      <td>50.0259</td>\n",
       "      <td>8.5213</td>\n",
       "      <td>2022-03-14 17:00:00</td>\n",
       "      <td>9.7</td>\n",
       "      <td>1028.8</td>\n",
       "      <td>0.0</td>\n",
       "      <td>3.1</td>\n",
       "      <td>264.7</td>\n",
       "      <td>Frankfurt</td>\n",
       "    </tr>\n",
       "    <tr>\n",
       "      <th>2</th>\n",
       "      <td>50.0259</td>\n",
       "      <td>8.5213</td>\n",
       "      <td>2022-03-14 18:00:00</td>\n",
       "      <td>8.9</td>\n",
       "      <td>1029.5</td>\n",
       "      <td>0.0</td>\n",
       "      <td>2.9</td>\n",
       "      <td>243.5</td>\n",
       "      <td>Frankfurt</td>\n",
       "    </tr>\n",
       "    <tr>\n",
       "      <th>3</th>\n",
       "      <td>50.0259</td>\n",
       "      <td>8.5213</td>\n",
       "      <td>2022-03-14 19:00:00</td>\n",
       "      <td>8.5</td>\n",
       "      <td>1029.8</td>\n",
       "      <td>0.0</td>\n",
       "      <td>1.2</td>\n",
       "      <td>270.5</td>\n",
       "      <td>Frankfurt</td>\n",
       "    </tr>\n",
       "    <tr>\n",
       "      <th>4</th>\n",
       "      <td>50.0259</td>\n",
       "      <td>8.5213</td>\n",
       "      <td>2022-03-14 20:00:00</td>\n",
       "      <td>7.5</td>\n",
       "      <td>1030.3</td>\n",
       "      <td>0.0</td>\n",
       "      <td>1.5</td>\n",
       "      <td>171.0</td>\n",
       "      <td>Frankfurt</td>\n",
       "    </tr>\n",
       "  </tbody>\n",
       "</table>\n",
       "</div>"
      ],
      "text/plain": [
       "       lat     lon           timestamp  temperature  pressure  precip  \\\n",
       "0  50.0259  8.5213 2022-03-14 16:00:00         12.8    1028.6     0.0   \n",
       "1  50.0259  8.5213 2022-03-14 17:00:00          9.7    1028.8     0.0   \n",
       "2  50.0259  8.5213 2022-03-14 18:00:00          8.9    1029.5     0.0   \n",
       "3  50.0259  8.5213 2022-03-14 19:00:00          8.5    1029.8     0.0   \n",
       "4  50.0259  8.5213 2022-03-14 20:00:00          7.5    1030.3     0.0   \n",
       "\n",
       "   wind_speed  wind_direction       city  \n",
       "0         3.8           265.0  Frankfurt  \n",
       "1         3.1           264.7  Frankfurt  \n",
       "2         2.9           243.5  Frankfurt  \n",
       "3         1.2           270.5  Frankfurt  \n",
       "4         1.5           171.0  Frankfurt  "
      ]
     },
     "execution_count": 36,
     "metadata": {},
     "output_type": "execute_result"
    }
   ],
   "source": [
    "df_ts['timestamp'] = df_ts['timestamp'].dt.tz_localize(None)\n",
    "df_ts.head()"
   ]
  },
  {
   "cell_type": "code",
   "execution_count": null,
   "metadata": {},
   "outputs": [],
   "source": [
    "df_ts.to_csv('../data/processed_weather_forecast.csv', index=False)"
   ]
  }
 ],
 "metadata": {
  "interpreter": {
   "hash": "4a077374ed4dbb64161d40ed2104c7e33247b48512da5a01adf0d791950a02fa"
  },
  "kernelspec": {
   "display_name": "Python 3.9.4 ('.venv': venv)",
   "language": "python",
   "name": "python3"
  },
  "language_info": {
   "codemirror_mode": {
    "name": "ipython",
    "version": 3
   },
   "file_extension": ".py",
   "mimetype": "text/x-python",
   "name": "python",
   "nbconvert_exporter": "python",
   "pygments_lexer": "ipython3",
   "version": "3.9.4"
  },
  "orig_nbformat": 4
 },
 "nbformat": 4,
 "nbformat_minor": 2
}
